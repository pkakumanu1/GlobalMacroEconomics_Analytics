{
 "cells": [
  {
   "cell_type": "code",
   "execution_count": 3,
   "metadata": {},
   "outputs": [],
   "source": [
    "import quandl\n",
    "import numpy as np #linear algebra\n",
    "import pandas as pd #data processing, CSV file I/O (e.g. pd.read_csv)\n",
    "import seaborn as sns\n",
    "from matplotlib import pyplot as plt\n",
    "import bamboolib as bam\n",
    "\n",
    "#data are available in the \"../input/\" directory\n",
    "\n",
    "import os\n",
    "#print(os.listdir(\"../input/\"))\n",
    "quandl.ApiConfig.api_key = 'fxZzuDxTUwi4x7ZqE2zY'"
   ]
  },
  {
   "cell_type": "code",
   "execution_count": 4,
   "metadata": {},
   "outputs": [
    {
     "data": {
      "text/plain": [
       "Timestamp('1961-01-01 00:00:00')"
      ]
     },
     "execution_count": 4,
     "metadata": {},
     "output_type": "execute_result"
    }
   ],
   "source": [
    "#data = quandl.get_table('EDIA/ECD', date='1961-01-01,1962-01-01', series_id='1994')\n",
    "from pandas.tseries.offsets import DateOffset\n",
    "ts = pd.Timestamp('1960-01-01')\n",
    "ts + DateOffset(months=12)"
   ]
  },
  {
   "cell_type": "code",
   "execution_count": 5,
   "metadata": {},
   "outputs": [
    {
     "data": {
      "application/vnd.jupyter.widget-view+json": {
       "model_id": "92f30b5b5ac549f2a8f933633961cbe9"
      },
      "text/html": [
       "<div>\n",
       "<style scoped>\n",
       "    .dataframe tbody tr th:only-of-type {\n",
       "        vertical-align: middle;\n",
       "    }\n",
       "\n",
       "    .dataframe tbody tr th {\n",
       "        vertical-align: top;\n",
       "    }\n",
       "\n",
       "    .dataframe thead th {\n",
       "        text-align: right;\n",
       "    }\n",
       "</style>\n",
       "<table border=\"1\" class=\"dataframe\">\n",
       "  <thead>\n",
       "    <tr style=\"text-align: right;\">\n",
       "      <th></th>\n",
       "      <th>Country Code</th>\n",
       "      <th>Countries</th>\n",
       "      <th>GDP Growth Rate: 95</th>\n",
       "      <th>Unemployment Rate: 200</th>\n",
       "      <th>Inflation Rate: 119</th>\n",
       "      <th>Corruption Index: 44</th>\n",
       "      <th>Interest Rate: 124</th>\n",
       "      <th>From_Date_GDP</th>\n",
       "      <th>To_Date_GDP</th>\n",
       "    </tr>\n",
       "  </thead>\n",
       "  <tbody>\n",
       "    <tr>\n",
       "      <th>0</th>\n",
       "      <td>AF</td>\n",
       "      <td>Afghanistan</td>\n",
       "      <td>88</td>\n",
       "      <td>160</td>\n",
       "      <td>112</td>\n",
       "      <td>26</td>\n",
       "      <td>125</td>\n",
       "      <td>2002-01-01</td>\n",
       "      <td>2018-01-01</td>\n",
       "    </tr>\n",
       "    <tr>\n",
       "      <th>1</th>\n",
       "      <td>AL</td>\n",
       "      <td>Albania</td>\n",
       "      <td>288</td>\n",
       "      <td>384</td>\n",
       "      <td>316</td>\n",
       "      <td>225</td>\n",
       "      <td>324</td>\n",
       "      <td>1981-01-01</td>\n",
       "      <td>2019-01-01</td>\n",
       "    </tr>\n",
       "    <tr>\n",
       "      <th>2</th>\n",
       "      <td>AM</td>\n",
       "      <td>Armenia</td>\n",
       "      <td>1560</td>\n",
       "      <td>1690</td>\n",
       "      <td>1603</td>\n",
       "      <td>1470</td>\n",
       "      <td>1614</td>\n",
       "      <td>1991-01-01</td>\n",
       "      <td>2019-01-01</td>\n",
       "    </tr>\n",
       "    <tr>\n",
       "      <th>3</th>\n",
       "      <td>AO</td>\n",
       "      <td>Angola</td>\n",
       "      <td>873</td>\n",
       "      <td>992</td>\n",
       "      <td>920</td>\n",
       "      <td>780</td>\n",
       "      <td>933</td>\n",
       "      <td>2003-01-01</td>\n",
       "      <td>2019-01-01</td>\n",
       "    </tr>\n",
       "    <tr>\n",
       "      <th>4</th>\n",
       "      <td>AU</td>\n",
       "      <td>Australia</td>\n",
       "      <td>1994</td>\n",
       "      <td>2168</td>\n",
       "      <td>2051</td>\n",
       "      <td>1892</td>\n",
       "      <td>2066</td>\n",
       "      <td>1961-01-01</td>\n",
       "      <td>2019-01-01</td>\n",
       "    </tr>\n",
       "    <tr>\n",
       "      <th>...</th>\n",
       "      <td>...</td>\n",
       "      <td>...</td>\n",
       "      <td>...</td>\n",
       "      <td>...</td>\n",
       "      <td>...</td>\n",
       "      <td>...</td>\n",
       "      <td>...</td>\n",
       "      <td>...</td>\n",
       "      <td>...</td>\n",
       "    </tr>\n",
       "    <tr>\n",
       "      <th>124</th>\n",
       "      <td>WS</td>\n",
       "      <td>Samoa</td>\n",
       "      <td>34853</td>\n",
       "      <td>34920</td>\n",
       "      <td>34877</td>\n",
       "      <td>34785</td>\n",
       "      <td>34888</td>\n",
       "      <td>1971-01-01</td>\n",
       "      <td>2017-01-01</td>\n",
       "    </tr>\n",
       "    <tr>\n",
       "      <th>125</th>\n",
       "      <td>YE</td>\n",
       "      <td>Yemen</td>\n",
       "      <td>45299</td>\n",
       "      <td>45356</td>\n",
       "      <td>45315</td>\n",
       "      <td>45253</td>\n",
       "      <td>45323</td>\n",
       "      <td>1991-01-01</td>\n",
       "      <td>2018-01-01</td>\n",
       "    </tr>\n",
       "    <tr>\n",
       "      <th>126</th>\n",
       "      <td>ZA</td>\n",
       "      <td>South Africa</td>\n",
       "      <td>37660</td>\n",
       "      <td>37828</td>\n",
       "      <td>37715</td>\n",
       "      <td>37543</td>\n",
       "      <td>37729</td>\n",
       "      <td>1961-01-01</td>\n",
       "      <td>2019-01-01</td>\n",
       "    </tr>\n",
       "    <tr>\n",
       "      <th>127</th>\n",
       "      <td>ZM</td>\n",
       "      <td>Zambia</td>\n",
       "      <td>45509</td>\n",
       "      <td>45627</td>\n",
       "      <td>45553</td>\n",
       "      <td>45414</td>\n",
       "      <td>45567</td>\n",
       "      <td>1988-01-01</td>\n",
       "      <td>2019-01-01</td>\n",
       "    </tr>\n",
       "    <tr>\n",
       "      <th>128</th>\n",
       "      <td>ZW</td>\n",
       "      <td>Zimbabwe</td>\n",
       "      <td>45739</td>\n",
       "      <td>45839</td>\n",
       "      <td>45776</td>\n",
       "      <td>45668</td>\n",
       "      <td>45787</td>\n",
       "      <td>2009-01-01</td>\n",
       "      <td>2018-01-01</td>\n",
       "    </tr>\n",
       "  </tbody>\n",
       "</table>\n",
       "<p>129 rows × 9 columns</p>\n",
       "</div>"
      ],
      "text/plain": [
       "    Country Code     Countries  GDP Growth Rate: 95  Unemployment Rate: 200  \\\n",
       "0             AF   Afghanistan                   88                     160   \n",
       "1             AL       Albania                  288                     384   \n",
       "2             AM       Armenia                 1560                    1690   \n",
       "3             AO        Angola                  873                     992   \n",
       "4             AU     Australia                 1994                    2168   \n",
       "..           ...           ...                  ...                     ...   \n",
       "124           WS         Samoa                34853                   34920   \n",
       "125           YE         Yemen                45299                   45356   \n",
       "126           ZA  South Africa                37660                   37828   \n",
       "127           ZM        Zambia                45509                   45627   \n",
       "128           ZW      Zimbabwe                45739                   45839   \n",
       "\n",
       "     Inflation Rate: 119  Corruption Index: 44  Interest Rate: 124  \\\n",
       "0                    112                    26                 125   \n",
       "1                    316                   225                 324   \n",
       "2                   1603                  1470                1614   \n",
       "3                    920                   780                 933   \n",
       "4                   2051                  1892                2066   \n",
       "..                   ...                   ...                 ...   \n",
       "124                34877                 34785               34888   \n",
       "125                45315                 45253               45323   \n",
       "126                37715                 37543               37729   \n",
       "127                45553                 45414               45567   \n",
       "128                45776                 45668               45787   \n",
       "\n",
       "    From_Date_GDP To_Date_GDP  \n",
       "0      2002-01-01  2018-01-01  \n",
       "1      1981-01-01  2019-01-01  \n",
       "2      1991-01-01  2019-01-01  \n",
       "3      2003-01-01  2019-01-01  \n",
       "4      1961-01-01  2019-01-01  \n",
       "..            ...         ...  \n",
       "124    1971-01-01  2017-01-01  \n",
       "125    1991-01-01  2018-01-01  \n",
       "126    1961-01-01  2019-01-01  \n",
       "127    1988-01-01  2019-01-01  \n",
       "128    2009-01-01  2018-01-01  \n",
       "\n",
       "[129 rows x 9 columns]"
      ]
     },
     "metadata": {},
     "output_type": "display_data"
    }
   ],
   "source": [
    "df_gdpgrowthinput = pd.read_csv('FinalDraft.csv')\n",
    "df_gdpgrowthinput"
   ]
  },
  {
   "cell_type": "code",
   "execution_count": 6,
   "metadata": {},
   "outputs": [
    {
     "name": "stdout",
     "output_type": "stream",
     "text": [
      "2020-08-05 21:47:04.085203\n",
      "timestamp = 1596678424.085203\n"
     ]
    }
   ],
   "source": [
    "from datetime import datetime\n",
    "now = datetime.now()\n",
    "print(now)\n",
    "timestamp = datetime.timestamp(now)\n",
    "print(\"timestamp =\", timestamp)"
   ]
  },
  {
   "cell_type": "code",
   "execution_count": 13,
   "metadata": {},
   "outputs": [
    {
     "name": "stdout",
     "output_type": "stream",
     "text": [
      "['2002-01-01', '2003-01-01', '2004-01-01', '2005-01-01', '2006-01-01', '2007-01-01', '2008-01-01', '2009-01-01', '2010-01-01', '2011-01-01', '2012-01-01', '2013-01-01', '2014-01-01', '2015-01-01', '2016-01-01', '2017-01-01', '2018-01-01']\n"
     ]
    }
   ],
   "source": [
    "from pandas.tseries.offsets import DateOffset\n",
    "from datetime import datetime\n",
    "from datetime import timedelta\n",
    "from dateutil.relativedelta import relativedelta\n",
    "\n",
    "lst_dates = []\n",
    "for row in df_gdpgrowthinput.head(1).itertuples():\n",
    "    start_date  = str(row.From_Date_GDP)\n",
    "    end_date = str(row.To_Date_GDP)\n",
    "    start = datetime.strptime(start_date, \"%Y-%m-%d\")\n",
    "    lst_dates.append(start_date)\n",
    "    stop = datetime.strptime(end_date, \"%Y-%m-%d\")\n",
    "    while start < stop:\n",
    "        start = start + relativedelta(months = +12)\n",
    "        lst_dates.append(start.strftime(\"%Y-%m-%d\"))\n",
    "    "
   ]
  },
  {
   "cell_type": "code",
   "execution_count": 14,
   "metadata": {},
   "outputs": [
    {
     "data": {
      "text/plain": [
       "'2002-01-01 ,2003-01-01 ,2004-01-01 ,2005-01-01 ,2006-01-01 ,2007-01-01 ,2008-01-01 ,2009-01-01 ,2010-01-01 ,2011-01-01 ,2012-01-01 ,2013-01-01 ,2014-01-01 ,2015-01-01 ,2016-01-01 ,2017-01-01 ,2018-01-01'"
      ]
     },
     "execution_count": 14,
     "metadata": {},
     "output_type": "execute_result"
    }
   ],
   "source": [
    "dateparam = \" ,\".join(lst_dates)\n",
    "dateparam\n",
    "#data = quandl.get_table('EDIA/ECD', date=dateparam, series_id='1994'"
   ]
  },
  {
   "cell_type": "code",
   "execution_count": null,
   "metadata": {},
   "outputs": [],
   "source": []
  }
 ],
 "metadata": {
  "kernelspec": {
   "display_name": "Python 3",
   "language": "python",
   "name": "python3"
  },
  "language_info": {
   "codemirror_mode": {
    "name": "ipython",
    "version": 3
   },
   "file_extension": ".py",
   "mimetype": "text/x-python",
   "name": "python",
   "nbconvert_exporter": "python",
   "pygments_lexer": "ipython3",
   "version": "3.7.4"
  }
 },
 "nbformat": 4,
 "nbformat_minor": 2
}
