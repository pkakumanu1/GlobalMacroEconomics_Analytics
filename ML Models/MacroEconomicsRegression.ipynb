{
 "cells": [
  {
   "cell_type": "markdown",
   "metadata": {},
   "source": [
    "# Linear Regression Modelling for Global Interest Rates"
   ]
  },
  {
   "cell_type": "code",
   "execution_count": 1,
   "metadata": {},
   "outputs": [
    {
     "name": "stdout",
     "output_type": "stream",
     "text": [
      "Requirement already up-to-date: sklearn in c:\\users\\smaheshw\\appdata\\local\\continuum\\anaconda3\\lib\\site-packages (0.0)\n",
      "Requirement already satisfied, skipping upgrade: scikit-learn in c:\\users\\smaheshw\\appdata\\local\\continuum\\anaconda3\\lib\\site-packages (from sklearn) (0.21.3)\n",
      "Requirement already satisfied, skipping upgrade: joblib>=0.11 in c:\\users\\smaheshw\\appdata\\local\\continuum\\anaconda3\\lib\\site-packages (from scikit-learn->sklearn) (0.13.2)\n",
      "Requirement already satisfied, skipping upgrade: numpy>=1.11.0 in c:\\users\\smaheshw\\appdata\\local\\continuum\\anaconda3\\lib\\site-packages (from scikit-learn->sklearn) (1.16.5)\n",
      "Requirement already satisfied, skipping upgrade: scipy>=0.17.0 in c:\\users\\smaheshw\\appdata\\local\\continuum\\anaconda3\\lib\\site-packages (from scikit-learn->sklearn) (1.3.1)\n"
     ]
    }
   ],
   "source": [
    "# Update sklearn to prevent version mismatches\n",
    "!pip install sklearn --upgrade"
   ]
  },
  {
   "cell_type": "code",
   "execution_count": 3,
   "metadata": {},
   "outputs": [],
   "source": [
    "# Import depedencies\n",
    "import pandas as pd\n",
    "import matplotlib.pyplot as plt\n",
    "import seaborn as sns\n",
    "import numpy as np\n",
    "import os\n",
    "import bamboolib"
   ]
  },
  {
   "cell_type": "code",
   "execution_count": 4,
   "metadata": {},
   "outputs": [],
   "source": [
    "# Load libraries\n",
    "from sklearn.model_selection import train_test_split\n",
    "from sklearn.metrics import classification_report,confusion_matrix,accuracy_score\n",
    "from sklearn.linear_model import LogisticRegression\n",
    "from sklearn.svm import SVC\n",
    "from sklearn.preprocessing import MinMaxScaler,LabelEncoder\n",
    "from sklearn.feature_selection import SelectFromModel"
   ]
  },
  {
   "cell_type": "code",
   "execution_count": 5,
   "metadata": {},
   "outputs": [],
   "source": [
    "# File path \n",
    "data_file = os.path.join(\"\",\"Resources\",\"data\",\"CombinedData.csv\")\n",
    "model_result = os.path.join(\"\",\"Resources\",\"results\",\"LinearRegression.csv\")"
   ]
  },
  {
   "cell_type": "code",
   "execution_count": 6,
   "metadata": {},
   "outputs": [],
   "source": [
    "# Read data\n",
    "df_macrodata = pd.read_csv(data_file)"
   ]
  },
  {
   "cell_type": "code",
   "execution_count": 7,
   "metadata": {},
   "outputs": [
    {
     "data": {
      "application/vnd.jupyter.widget-view+json": {
       "model_id": "3ff22f8f6a9b41f3b9488d536dfd34bc"
      },
      "text/html": [
       "<div>\n",
       "<style scoped>\n",
       "    .dataframe tbody tr th:only-of-type {\n",
       "        vertical-align: middle;\n",
       "    }\n",
       "\n",
       "    .dataframe tbody tr th {\n",
       "        vertical-align: top;\n",
       "    }\n",
       "\n",
       "    .dataframe thead th {\n",
       "        text-align: right;\n",
       "    }\n",
       "</style>\n",
       "<table border=\"1\" class=\"dataframe\">\n",
       "  <thead>\n",
       "    <tr style=\"text-align: right;\">\n",
       "      <th></th>\n",
       "      <th>Unnamed: 0</th>\n",
       "      <th>country</th>\n",
       "      <th>date</th>\n",
       "      <th>GDPRate</th>\n",
       "      <th>UnemploymentRate</th>\n",
       "      <th>InflationRate</th>\n",
       "      <th>InterestRate</th>\n",
       "      <th>CorruptionIndex</th>\n",
       "    </tr>\n",
       "  </thead>\n",
       "  <tbody>\n",
       "    <tr>\n",
       "      <th>0</th>\n",
       "      <td>0</td>\n",
       "      <td>Afghanistan</td>\n",
       "      <td>1/1/17</td>\n",
       "      <td>1.434553e+06</td>\n",
       "      <td>11.20</td>\n",
       "      <td>4.975896</td>\n",
       "      <td>12.6</td>\n",
       "      <td>15.0</td>\n",
       "    </tr>\n",
       "    <tr>\n",
       "      <th>1</th>\n",
       "      <td>1</td>\n",
       "      <td>Afghanistan</td>\n",
       "      <td>1/1/12</td>\n",
       "      <td>1.086160e+06</td>\n",
       "      <td>1.70</td>\n",
       "      <td>6.441171</td>\n",
       "      <td>7.2</td>\n",
       "      <td>8.0</td>\n",
       "    </tr>\n",
       "    <tr>\n",
       "      <th>2</th>\n",
       "      <td>2</td>\n",
       "      <td>Afghanistan</td>\n",
       "      <td>1/1/08</td>\n",
       "      <td>5.411126e+05</td>\n",
       "      <td>2.50</td>\n",
       "      <td>26.418735</td>\n",
       "      <td>12.6</td>\n",
       "      <td>15.0</td>\n",
       "    </tr>\n",
       "    <tr>\n",
       "      <th>3</th>\n",
       "      <td>3</td>\n",
       "      <td>Albania</td>\n",
       "      <td>1/1/19</td>\n",
       "      <td>2.604024e+00</td>\n",
       "      <td>11.50</td>\n",
       "      <td>1.411092</td>\n",
       "      <td>5.9</td>\n",
       "      <td>35.0</td>\n",
       "    </tr>\n",
       "    <tr>\n",
       "      <th>4</th>\n",
       "      <td>4</td>\n",
       "      <td>Albania</td>\n",
       "      <td>1/1/18</td>\n",
       "      <td>5.486044e+00</td>\n",
       "      <td>12.30</td>\n",
       "      <td>2.028059</td>\n",
       "      <td>4.5</td>\n",
       "      <td>36.0</td>\n",
       "    </tr>\n",
       "    <tr>\n",
       "      <th>...</th>\n",
       "      <td>...</td>\n",
       "      <td>...</td>\n",
       "      <td>...</td>\n",
       "      <td>...</td>\n",
       "      <td>...</td>\n",
       "      <td>...</td>\n",
       "      <td>...</td>\n",
       "      <td>...</td>\n",
       "    </tr>\n",
       "    <tr>\n",
       "      <th>1611</th>\n",
       "      <td>1611</td>\n",
       "      <td>Zimbabwe</td>\n",
       "      <td>1/1/16</td>\n",
       "      <td>1.000000e+00</td>\n",
       "      <td>5.25</td>\n",
       "      <td>-1.566399</td>\n",
       "      <td>4.8</td>\n",
       "      <td>22.0</td>\n",
       "    </tr>\n",
       "    <tr>\n",
       "      <th>1612</th>\n",
       "      <td>1612</td>\n",
       "      <td>Zimbabwe</td>\n",
       "      <td>1/1/15</td>\n",
       "      <td>2.000000e+00</td>\n",
       "      <td>5.30</td>\n",
       "      <td>-2.409525</td>\n",
       "      <td>7.9</td>\n",
       "      <td>21.0</td>\n",
       "    </tr>\n",
       "    <tr>\n",
       "      <th>1613</th>\n",
       "      <td>1613</td>\n",
       "      <td>Zimbabwe</td>\n",
       "      <td>1/1/14</td>\n",
       "      <td>2.000000e+00</td>\n",
       "      <td>5.34</td>\n",
       "      <td>-0.212964</td>\n",
       "      <td>9.7</td>\n",
       "      <td>21.0</td>\n",
       "    </tr>\n",
       "    <tr>\n",
       "      <th>1614</th>\n",
       "      <td>1614</td>\n",
       "      <td>Zimbabwe</td>\n",
       "      <td>1/1/13</td>\n",
       "      <td>2.000000e+00</td>\n",
       "      <td>5.40</td>\n",
       "      <td>1.631629</td>\n",
       "      <td>0.3</td>\n",
       "      <td>21.0</td>\n",
       "    </tr>\n",
       "    <tr>\n",
       "      <th>1615</th>\n",
       "      <td>1615</td>\n",
       "      <td>Zimbabwe</td>\n",
       "      <td>1/1/12</td>\n",
       "      <td>1.700000e+01</td>\n",
       "      <td>5.38</td>\n",
       "      <td>3.721088</td>\n",
       "      <td>7.3</td>\n",
       "      <td>20.0</td>\n",
       "    </tr>\n",
       "  </tbody>\n",
       "</table>\n",
       "<p>1616 rows × 8 columns</p>\n",
       "</div>"
      ],
      "text/plain": [
       "      Unnamed: 0      country    date       GDPRate  UnemploymentRate  \\\n",
       "0              0  Afghanistan  1/1/17  1.434553e+06             11.20   \n",
       "1              1  Afghanistan  1/1/12  1.086160e+06              1.70   \n",
       "2              2  Afghanistan  1/1/08  5.411126e+05              2.50   \n",
       "3              3      Albania  1/1/19  2.604024e+00             11.50   \n",
       "4              4      Albania  1/1/18  5.486044e+00             12.30   \n",
       "...          ...          ...     ...           ...               ...   \n",
       "1611        1611     Zimbabwe  1/1/16  1.000000e+00              5.25   \n",
       "1612        1612     Zimbabwe  1/1/15  2.000000e+00              5.30   \n",
       "1613        1613     Zimbabwe  1/1/14  2.000000e+00              5.34   \n",
       "1614        1614     Zimbabwe  1/1/13  2.000000e+00              5.40   \n",
       "1615        1615     Zimbabwe  1/1/12  1.700000e+01              5.38   \n",
       "\n",
       "      InflationRate  InterestRate  CorruptionIndex  \n",
       "0          4.975896          12.6             15.0  \n",
       "1          6.441171           7.2              8.0  \n",
       "2         26.418735          12.6             15.0  \n",
       "3          1.411092           5.9             35.0  \n",
       "4          2.028059           4.5             36.0  \n",
       "...             ...           ...              ...  \n",
       "1611      -1.566399           4.8             22.0  \n",
       "1612      -2.409525           7.9             21.0  \n",
       "1613      -0.212964           9.7             21.0  \n",
       "1614       1.631629           0.3             21.0  \n",
       "1615       3.721088           7.3             20.0  \n",
       "\n",
       "[1616 rows x 8 columns]"
      ]
     },
     "metadata": {},
     "output_type": "display_data"
    }
   ],
   "source": [
    "# Display Sample data\n",
    "df_macrodata"
   ]
  },
  {
   "cell_type": "code",
   "execution_count": 9,
   "metadata": {},
   "outputs": [
    {
     "data": {
      "text/plain": [
       "(1616, 8)"
      ]
     },
     "execution_count": 9,
     "metadata": {},
     "output_type": "execute_result"
    }
   ],
   "source": [
    "# Check data size\n",
    "df_macrodata.shape"
   ]
  },
  {
   "cell_type": "code",
   "execution_count": 10,
   "metadata": {},
   "outputs": [
    {
     "name": "stdout",
     "output_type": "stream",
     "text": [
      "<class 'pandas.core.frame.DataFrame'>\n",
      "RangeIndex: 1616 entries, 0 to 1615\n",
      "Data columns (total 8 columns):\n",
      " #   Column            Non-Null Count  Dtype  \n",
      "---  ------            --------------  -----  \n",
      " 0   Unnamed: 0        1616 non-null   int64  \n",
      " 1   country           1616 non-null   object \n",
      " 2   date              1616 non-null   object \n",
      " 3   GDPRate           1616 non-null   float64\n",
      " 4   UnemploymentRate  1616 non-null   float64\n",
      " 5   InflationRate     1616 non-null   float64\n",
      " 6   InterestRate      1616 non-null   float64\n",
      " 7   CorruptionIndex   1616 non-null   float64\n",
      "dtypes: float64(5), int64(1), object(2)\n",
      "memory usage: 101.1+ KB\n"
     ]
    }
   ],
   "source": [
    "# Check datafrme for summary and dtypes\n",
    "df_macrodata.info()"
   ]
  },
  {
   "cell_type": "code",
   "execution_count": 11,
   "metadata": {},
   "outputs": [
    {
     "data": {
      "text/plain": [
       "Unnamed: 0          0\n",
       "country             0\n",
       "date                0\n",
       "GDPRate             0\n",
       "UnemploymentRate    0\n",
       "InflationRate       0\n",
       "InterestRate        0\n",
       "CorruptionIndex     0\n",
       "dtype: int64"
      ]
     },
     "execution_count": 11,
     "metadata": {},
     "output_type": "execute_result"
    }
   ],
   "source": [
    "# Check null values\n",
    "df_macrodata.isna().sum()"
   ]
  },
  {
   "cell_type": "code",
   "execution_count": 12,
   "metadata": {},
   "outputs": [
    {
     "data": {
      "text/plain": [
       "array([ 12.6     ,   7.2     ,   5.9     ,   4.5     ,   4.7     ,\n",
       "         7.4     ,   7.3     ,   6.3     ,   9.5     ,   9.7     ,\n",
       "         9.9     ,   8.      ,  10.      ,   8.6     ,   9.3     ,\n",
       "        10.2     ,   8.3     ,  11.3     ,  19.1     ,  17.      ,\n",
       "        16.2     ,  13.8     ,  12.2     ,  12.9     ,  10.6     ,\n",
       "       -12.2     ,  -6.5     ,  -5.6     ,  -4.9     ,  21.1     ,\n",
       "        12.4     ,   8.8     ,  -9.9     ,  -6.9     ,  39.      ,\n",
       "        -5.7     ,  12.8     ,   2.      ,  17.8     ,  36.6     ,\n",
       "         1.1     ,   1.7     ,   3.3     ,   1.5     ,   6.      ,\n",
       "         6.2     ,   4.4     ,   5.      ,   1.4     ,   1.      ,\n",
       "         4.2     ,   3.      ,   2.4     ,   3.6     ,   3.4     ,\n",
       "         2.1     ,   5.3     ,   6.8     ,   8.1     ,   0.3     ,\n",
       "        28.9     ,  19.4     ,  17.7     ,  15.1     ,  -4.5     ,\n",
       "        48.      ,  -6.4     ,  -1.2     ,   7.9     ,  16.8     ,\n",
       "         6.4     ,   1.2     ,   1.6     ,   3.8     ,   5.6     ,\n",
       "         6.6     ,   4.8     ,   7.7     ,  -0.3     ,   0.9     ,\n",
       "         0.2     ,   7.8     ,  11.1     ,   8.2     ,   5.8     ,\n",
       "         2.3     ,   3.1     ,   2.7     ,   7.5     ,   7.6     ,\n",
       "        -0.7     ,  -1.4     ,   1.3     ,   2.5     ,  -3.8     ,\n",
       "         2.2     ,   5.4     ,   4.9     ,  -0.1     ,   9.8     ,\n",
       "         7.      ,  -1.      ,   6.1     ,   5.2     ,   3.9     ,\n",
       "       -14.4     ,   2.9     ,  -2.7     ,  -0.2     ,  24.1     ,\n",
       "        -2.8     ,  18.2     ,  13.2     ,   6.7     ,   0.      ,\n",
       "        -6.2     ,   5.5     ,   4.6     ,   4.3     ,  -2.5     ,\n",
       "         2.6     ,   9.1     ,  -3.4     ,   0.5     ,  -9.6     ,\n",
       "        35.4     ,   1.9     ,   9.4     ,  13.3     ,  -3.2     ,\n",
       "         3.2     ,   5.1     ,  -1.6     ,  10.1     ,  17.3     ,\n",
       "        17.9     ,  27.9     ,  32.2     ,  42.      ,  39.8     ,\n",
       "        35.5     ,  32.      ,  34.7     ,  41.8     ,  40.7     ,\n",
       "        33.8     ,  22.4     ,  18.5     ,  26.6     ,  32.8     ,\n",
       "        34.8     ,  35.      ,  41.2     ,  44.6     ,  43.8     ,\n",
       "        46.4     ,  48.3     ,  45.6     ,  67.1     ,  77.6     ,\n",
       "        65.4     ,  10.9     ,  10.7     ,   5.7     ,  -4.2     ,\n",
       "        -2.6     ,  10.8     ,   6.9     ,   8.4     ,  12.7     ,\n",
       "        14.8     ,   1.8     ,  -1.8     , -31.8     , -33.6     ,\n",
       "        -1.9     , -10.4     ,  -1.7     ,  -4.7     ,  -5.1     ,\n",
       "        -5.5     , -41.2     , -63.8     , -28.1     ,   3.7     ,\n",
       "         0.7     ,  14.1     ,  20.8     ,  17.5     ,  16.1     ,\n",
       "        21.2     ,  26.3     ,  29.6     ,  24.7     ,  18.8     ,\n",
       "        22.2     ,  29.2     ,  20.766774,  17.524738,  16.147234,\n",
       "        21.244739,  26.33035 ,  29.582826,  24.69477 ,  18.834342,\n",
       "        22.224352,  29.217333,   7.1     ,  -3.9     ,  -3.7     ,\n",
       "        -0.9     ,  18.9     ,  13.5     ,   0.8     ,   0.1     ,\n",
       "        -2.3     ,  -1.3     ,   9.      ,   8.9     ,   8.7     ,\n",
       "       -11.1     ,  23.9     ,  14.9     ,  21.5     ,  20.1     ,\n",
       "         8.5     ,   4.      ,  13.4     ,   9.2     ,  10.5     ,\n",
       "         3.5     ,   4.1     ,  12.1     ,  12.      ,  -8.6     ,\n",
       "        17.2     ,  15.5     ,  -8.7     ,  -7.      ,  21.6     ,\n",
       "        -6.3     ,  -0.6     , -17.1     ,  -8.3     ,  -4.1     ,\n",
       "        21.7     ,  22.1     ,  23.3     ,  20.2     ,  22.5     ,\n",
       "        28.1     ,  11.7     ,  -7.7     ,  -6.7     ,   0.4     ,\n",
       "       -32.      ,  13.1     ,  15.6     ,  14.4     ,  13.6     ,\n",
       "        11.      ,  11.5     ,  14.2     ,  16.7     ,  14.5     ,\n",
       "        21.      ,  13.9     ,  -2.9     ,  -2.1     ,   2.8     ,\n",
       "         6.5     ,  12.3     ,  11.8     , -24.6     ,   0.6     ,\n",
       "        -2.      ,  29.8     ,  11.9     ,  11.4     ,   9.6     ,\n",
       "        10.4     ,  13.      ,  19.      ,  -9.      ,  -2.2     ,\n",
       "        -0.5     ,  -8.      ,  17.4     ,  15.3     ,  -5.8     ,\n",
       "        19.5     ,  17.6     ,  16.      ,  40.9     ,  -9.3     ,\n",
       "       -10.2     ,  15.8     ,  16.5     ,  11.6     ,  20.6     ,\n",
       "        -7.1     ,  41.9     , -13.      , -17.5     , -13.5     ,\n",
       "         3.89    ,   3.91    ,   3.83    ,   3.76    ,   3.69    ,\n",
       "         3.81    ,   3.67    ,   3.52    ,   3.61    ,   3.78    ,\n",
       "         4.54    ,   5.16    ,   6.39    ,   7.26    , -12.7     ,\n",
       "        18.      ,  12.5     ,  -3.      ,   6.36    ,   6.81    ,\n",
       "         7.45    ,   8.53    ,   9.22    ,   9.36    ,   9.47    ,\n",
       "         9.73    ,   9.63    ,   9.38    ,   9.09    ,  41.5     ,\n",
       "        44.4     ,  52.4     ,  46.8     ,  47.1     ,  49.9     ,\n",
       "        50.8     ,  38.2     ,  32.5     ,  35.2     ,  34.      ,\n",
       "        27.2     ,  15.7     ,  26.4     ,  17.1     , -13.7     ,\n",
       "        22.9     ,  -4.4     ,  19.9     ,  16.4     ,  14.6     ,\n",
       "        14.      ,  24.      ,  19.8     ,  14.7     ,  -0.8     ,\n",
       "        -1.1     ,   5.867   ,   5.901   ,   5.647   ,   4.713   ,\n",
       "         4.248   ,   3.978   ,   4.209   ,   4.283   ,   4.997   ,\n",
       "         6.242   ,   8.384   ,   7.547   ,   6.298   ,   6.24    ,\n",
       "         6.352   ,   8.755   ,  11.2     ,  15.      , -20.1     ,\n",
       "        -4.6     ,  20.5     ,  23.6     ,  19.6     ,  30.3     ,\n",
       "        -3.3     ,  38.      , -10.8     ,  41.3     , -13.1     ,\n",
       "        -6.1     , -26.7     ,  -4.      ,  14.3     ,  -1.5     ,\n",
       "        -1.6237  ,   0.19506 ,  -3.91465 ,  -2.56445 ,   7.35858 ,\n",
       "        -0.4     ,  18.7     ,  -8.2     ,  22.      , -12.3     ,\n",
       "        -7.5     ,  19.3     ,  20.4     ,  37.9     ,  16.6     ,\n",
       "       -34.2     ,  15.9     ,  21.8     ,  10.3     ,  23.      ,\n",
       "        36.4     ,  93.9     ,  44.7     ,  46.9     ,  40.5     ,\n",
       "        34.6     , -14.5     , -18.9     ,  -3.6     ])"
      ]
     },
     "execution_count": 12,
     "metadata": {},
     "output_type": "execute_result"
    }
   ],
   "source": [
    "# Check dependent variable unique value\n",
    "df_macrodata['InterestRate'].unique()"
   ]
  },
  {
   "cell_type": "code",
   "execution_count": 13,
   "metadata": {},
   "outputs": [
    {
     "name": "stdout",
     "output_type": "stream",
     "text": [
      "        Unnamed: 0       GDPRate  UnemploymentRate  InflationRate  \\\n",
      "count  1616.000000  1.616000e+03       1616.000000    1616.000000   \n",
      "mean    807.500000  2.655837e+03          7.732043       6.012438   \n",
      "std     466.643333  4.768691e+04          6.119097      11.603082   \n",
      "min       0.000000 -6.666000e+01          0.100000     -60.496383   \n",
      "25%     403.750000  4.115199e+00          3.600000       1.953480   \n",
      "50%     807.500000  6.872538e+00          6.100000       4.014027   \n",
      "75%    1211.250000  1.165691e+01          9.700000       7.334440   \n",
      "max    1615.000000  1.434553e+06         37.200000     293.700000   \n",
      "\n",
      "       InterestRate  CorruptionIndex  \n",
      "count   1616.000000      1616.000000  \n",
      "mean       6.859474        39.801553  \n",
      "std        9.889895        25.392061  \n",
      "min      -63.800000         0.000000  \n",
      "25%        2.375000        25.000000  \n",
      "50%        5.200000        36.000000  \n",
      "75%        9.400000        54.000000  \n",
      "max       93.900000        97.000000  \n"
     ]
    }
   ],
   "source": [
    "#Statistical summary :df descriptions\n",
    "print(df_macrodata.describe())"
   ]
  },
  {
   "cell_type": "code",
   "execution_count": null,
   "metadata": {},
   "outputs": [],
   "source": []
  }
 ],
 "metadata": {
  "kernelspec": {
   "display_name": "Python 3",
   "language": "python",
   "name": "python3"
  },
  "language_info": {
   "codemirror_mode": {
    "name": "ipython",
    "version": 3
   },
   "file_extension": ".py",
   "mimetype": "text/x-python",
   "name": "python",
   "nbconvert_exporter": "python",
   "pygments_lexer": "ipython3",
   "version": "3.7.4"
  }
 },
 "nbformat": 4,
 "nbformat_minor": 2
}
